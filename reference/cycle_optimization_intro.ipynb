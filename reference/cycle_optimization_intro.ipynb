{
 "cells": [
  {
   "cell_type": "markdown",
   "id": "ebc6b64e",
   "metadata": {
    "id": "ebc6b64e"
   },
   "source": [
    "# Finding and Optimizing Cycle Representatives\n",
    "\n",
    "Hey everyone!\n",
    "\n",
    "Persistent homology (PH) is one of the canonical TDA tools that can be used to better understand data. Typically, the PH process provides a macro-scale overview of the *global* topological structure of a dataset—the structure and lifetime of holes in the dataset—and does not contain *geometric* information about important topological features—where those holes are actually located. It is natural, however, to want to understand geometric properties of the topological holes, and this geometry can contain important real-world insights when contextualized in the underlying data.\n",
    "\n",
    "*Cycle representatives* seem like the solution to this problem. A cycle representative is a chain of simplices that surrounds a topological hole. Our ability to draw meaningful conclusions from cycle representatives suffers from a uniqueness problem; *any* chain of simplices that surrounds a hole is a cycle representative for that hole. Therefore, in big datasets a single hole can be represented by multiple cycle representatives that are potentially very different from each other.\n",
    "\n",
    "An optimal cycle representative is a unique[^1] cycle representative for a hole that minimizes some $\\operatorname{loss}$ function of the cycle. These optimal cycle representatives are useful, since they often hold some real-world meaning in the underlying dataset.\n",
    "\n",
    "This notebook gives a brief intro to cycle optimization with code examples of how it can be implemented. The code can be (somewhat) complex, but all the code in this notebook should be functional so you don't need to perfectly understand the code to understand the cycle optimization concepts in the notebook. Some blocks can take longer (up to two minutes or so) to run. This can be sped up by running the code on a computer (instead of in Google Colab) or using a third-party optimizer (like Gurobi) which requires a license.\n",
    "\n",
    "[^1]: Usually. Some simplicial complexes, especially ones that have a discrete filtration, will not have unique cycle representatives."
   ]
  },
  {
   "cell_type": "markdown",
   "id": "f4e98962",
   "metadata": {
    "id": "f4e98962"
   },
   "source": [
    "# Preliminaries\n",
    "This notebook was created to be run in Python. We'll use the following packages throughout:\n",
    "- **Matplotlib.** Plotting library. You could also use plotly (like OAT does), but I have rendering issues occasionally with that.\n",
    "- **Numpy.** Useful numerical and array operations.\n",
    "- **Scipy.** Sparse matrix implementation.\n",
    "- **Pandas.** Dataframe operations. Most OAT results are dataframes which we can modify using pandas.\n",
    "- **Open Applied Topology (OAT).** Persistant homology calculations. Very transparent, which is useful for much of what we'll do in this notebook\n",
    "- **PuLP.** Frontend linear programming library. PuLP allows us to choose the backend we use to optimize. We'll use COIN, which I believe is installed by deafult. If it's not, see the installation instructions [here](https://github.com/coin-or/Clp).\n",
    "\n",
    "These packages can all be installed using pip and/or conda."
   ]
  },
  {
   "cell_type": "code",
   "execution_count": null,
   "id": "I-aGVsR3Vu9L",
   "metadata": {
    "id": "I-aGVsR3Vu9L"
   },
   "outputs": [
    {
     "name": "stdout",
     "output_type": "stream",
     "text": [
      "Requirement already satisfied: oat_python in /Users/floyd/anaconda3/lib/python3.11/site-packages (0.1.1)\n",
      "Collecting pulp\n",
      "  Obtaining dependency information for pulp from https://files.pythonhosted.org/packages/84/45/2bb878df73b5545405faff0b0b30f72929222356387a41b50ca268951d5d/pulp-3.2.1-py3-none-any.whl.metadata\n",
      "  Downloading pulp-3.2.1-py3-none-any.whl.metadata (6.9 kB)\n",
      "Requirement already satisfied: hypernetx in /Users/floyd/anaconda3/lib/python3.11/site-packages (from oat_python) (2.4.0)\n",
      "Requirement already satisfied: kaleido in /Users/floyd/anaconda3/lib/python3.11/site-packages (from oat_python) (0.2.1)\n",
      "Requirement already satisfied: matplotlib in /Users/floyd/anaconda3/lib/python3.11/site-packages (from oat_python) (3.7.2)\n",
      "Requirement already satisfied: maturin in /Users/floyd/anaconda3/lib/python3.11/site-packages (from oat_python) (1.8.6)\n",
      "Requirement already satisfied: nbformat in /Users/floyd/anaconda3/lib/python3.11/site-packages (from oat_python) (5.9.2)\n",
      "Requirement already satisfied: networkx in /Users/floyd/anaconda3/lib/python3.11/site-packages (from oat_python) (3.4.2)\n",
      "Requirement already satisfied: numpy in /Users/floyd/anaconda3/lib/python3.11/site-packages (from oat_python) (1.24.3)\n",
      "Requirement already satisfied: pandas in /Users/floyd/anaconda3/lib/python3.11/site-packages (from oat_python) (2.2.3)\n",
      "Requirement already satisfied: plotly in /Users/floyd/anaconda3/lib/python3.11/site-packages (from oat_python) (5.9.0)\n",
      "Requirement already satisfied: scikit-learn in /Users/floyd/anaconda3/lib/python3.11/site-packages (from oat_python) (1.6.1)\n",
      "Requirement already satisfied: scipy in /Users/floyd/anaconda3/lib/python3.11/site-packages (from oat_python) (1.10.1)\n",
      "Requirement already satisfied: celluloid>=0.2.0 in /Users/floyd/anaconda3/lib/python3.11/site-packages (from hypernetx->oat_python) (0.2.0)\n",
      "Requirement already satisfied: decorator>=5.1.1 in /Users/floyd/anaconda3/lib/python3.11/site-packages (from hypernetx->oat_python) (5.1.1)\n",
      "Requirement already satisfied: igraph>=0.11.4 in /Users/floyd/anaconda3/lib/python3.11/site-packages (from hypernetx->oat_python) (0.11.8)\n",
      "Requirement already satisfied: requests<3.0.0,>=2.32.3 in /Users/floyd/anaconda3/lib/python3.11/site-packages (from hypernetx->oat_python) (2.32.3)\n",
      "Collecting scipy (from oat_python)\n",
      "  Obtaining dependency information for scipy from https://files.pythonhosted.org/packages/4b/fa/a7e5b95afd80d24313307f03624acc65801846fa75599034f8ceb9e2cbf6/scipy-1.15.3-cp311-cp311-macosx_14_0_arm64.whl.metadata\n",
      "  Using cached scipy-1.15.3-cp311-cp311-macosx_14_0_arm64.whl.metadata (61 kB)\n",
      "Requirement already satisfied: python-dateutil>=2.8.2 in /Users/floyd/anaconda3/lib/python3.11/site-packages (from pandas->oat_python) (2.8.2)\n",
      "Requirement already satisfied: pytz>=2020.1 in /Users/floyd/anaconda3/lib/python3.11/site-packages (from pandas->oat_python) (2023.3.post1)\n",
      "Requirement already satisfied: tzdata>=2022.7 in /Users/floyd/anaconda3/lib/python3.11/site-packages (from pandas->oat_python) (2023.3)\n",
      "Requirement already satisfied: joblib>=1.2.0 in /Users/floyd/anaconda3/lib/python3.11/site-packages (from scikit-learn->oat_python) (1.2.0)\n",
      "Requirement already satisfied: threadpoolctl>=3.1.0 in /Users/floyd/anaconda3/lib/python3.11/site-packages (from scikit-learn->oat_python) (3.6.0)\n",
      "Requirement already satisfied: contourpy>=1.0.1 in /Users/floyd/anaconda3/lib/python3.11/site-packages (from matplotlib->oat_python) (1.0.5)\n",
      "Requirement already satisfied: cycler>=0.10 in /Users/floyd/anaconda3/lib/python3.11/site-packages (from matplotlib->oat_python) (0.11.0)\n",
      "Requirement already satisfied: fonttools>=4.22.0 in /Users/floyd/anaconda3/lib/python3.11/site-packages (from matplotlib->oat_python) (4.25.0)\n",
      "Requirement already satisfied: kiwisolver>=1.0.1 in /Users/floyd/anaconda3/lib/python3.11/site-packages (from matplotlib->oat_python) (1.4.4)\n",
      "Requirement already satisfied: packaging>=20.0 in /Users/floyd/anaconda3/lib/python3.11/site-packages (from matplotlib->oat_python) (23.1)\n",
      "Requirement already satisfied: pillow>=6.2.0 in /Users/floyd/anaconda3/lib/python3.11/site-packages (from matplotlib->oat_python) (9.4.0)\n",
      "Requirement already satisfied: pyparsing<3.1,>=2.3.1 in /Users/floyd/anaconda3/lib/python3.11/site-packages (from matplotlib->oat_python) (3.0.9)\n",
      "Requirement already satisfied: fastjsonschema in /Users/floyd/anaconda3/lib/python3.11/site-packages (from nbformat->oat_python) (2.16.2)\n",
      "Requirement already satisfied: jsonschema>=2.6 in /Users/floyd/anaconda3/lib/python3.11/site-packages (from nbformat->oat_python) (4.17.3)\n",
      "Requirement already satisfied: jupyter-core in /Users/floyd/anaconda3/lib/python3.11/site-packages (from nbformat->oat_python) (5.3.0)\n",
      "Requirement already satisfied: traitlets>=5.1 in /Users/floyd/anaconda3/lib/python3.11/site-packages (from nbformat->oat_python) (5.7.1)\n",
      "Requirement already satisfied: tenacity>=6.2.0 in /Users/floyd/anaconda3/lib/python3.11/site-packages (from plotly->oat_python) (8.2.2)\n",
      "Requirement already satisfied: texttable>=1.6.2 in /Users/floyd/anaconda3/lib/python3.11/site-packages (from igraph>=0.11.4->hypernetx->oat_python) (1.7.0)\n",
      "Requirement already satisfied: attrs>=17.4.0 in /Users/floyd/anaconda3/lib/python3.11/site-packages (from jsonschema>=2.6->nbformat->oat_python) (22.1.0)\n",
      "Requirement already satisfied: pyrsistent!=0.17.0,!=0.17.1,!=0.17.2,>=0.14.0 in /Users/floyd/anaconda3/lib/python3.11/site-packages (from jsonschema>=2.6->nbformat->oat_python) (0.18.0)\n",
      "Requirement already satisfied: six>=1.5 in /Users/floyd/anaconda3/lib/python3.11/site-packages (from python-dateutil>=2.8.2->pandas->oat_python) (1.16.0)\n",
      "Requirement already satisfied: charset-normalizer<4,>=2 in /Users/floyd/anaconda3/lib/python3.11/site-packages (from requests<3.0.0,>=2.32.3->hypernetx->oat_python) (2.0.4)\n",
      "Requirement already satisfied: idna<4,>=2.5 in /Users/floyd/anaconda3/lib/python3.11/site-packages (from requests<3.0.0,>=2.32.3->hypernetx->oat_python) (3.4)\n",
      "Requirement already satisfied: urllib3<3,>=1.21.1 in /Users/floyd/anaconda3/lib/python3.11/site-packages (from requests<3.0.0,>=2.32.3->hypernetx->oat_python) (1.26.16)\n",
      "Requirement already satisfied: certifi>=2017.4.17 in /Users/floyd/anaconda3/lib/python3.11/site-packages (from requests<3.0.0,>=2.32.3->hypernetx->oat_python) (2023.7.22)\n",
      "Requirement already satisfied: platformdirs>=2.5 in /Users/floyd/anaconda3/lib/python3.11/site-packages (from jupyter-core->nbformat->oat_python) (3.10.0)\n",
      "Downloading pulp-3.2.1-py3-none-any.whl (16.4 MB)\n",
      "\u001b[2K   \u001b[90m━━━━━━━━━━━━━━━━━━━━━━━━━━━━━━━━━━━━━━━━\u001b[0m \u001b[32m16.4/16.4 MB\u001b[0m \u001b[31m4.0 MB/s\u001b[0m eta \u001b[36m0:00:00\u001b[0m00:01\u001b[0m00:01\u001b[0m\n",
      "\u001b[?25hUsing cached scipy-1.15.3-cp311-cp311-macosx_14_0_arm64.whl (22.4 MB)\n",
      "Installing collected packages: scipy, pulp\n",
      "  Attempting uninstall: scipy\n",
      "    Found existing installation: scipy 1.10.1\n",
      "    Uninstalling scipy-1.10.1:\n",
      "      Successfully uninstalled scipy-1.10.1\n",
      "\u001b[31mERROR: pip's dependency resolver does not currently take into account all the packages that are installed. This behaviour is the source of the following dependency conflicts.\n",
      "gensim 4.3.0 requires FuzzyTM>=0.4.0, which is not installed.\u001b[0m\u001b[31m\n",
      "\u001b[0mSuccessfully installed pulp-3.2.1 scipy-1.15.3\n",
      "Password:"
     ]
    }
   ],
   "source": [
    "# install the needed extra packages\n",
    "!python -m pip install oat_python pulp  # python packages\n",
    "!sudo apt-get install coinor-cbc  # linear programming libraries"
   ]
  },
  {
   "cell_type": "code",
   "execution_count": null,
   "id": "3871861f",
   "metadata": {
    "id": "3871861f"
   },
   "outputs": [],
   "source": [
    "# plotting libraries\n",
    "from matplotlib.collections import LineCollection, PatchCollection\n",
    "from matplotlib.patches import Annulus, Polygon\n",
    "from matplotlib.text import Text\n",
    "import matplotlib.pyplot as plt\n",
    "\n",
    "# standard numerical libraries\n",
    "from scipy import sparse\n",
    "import pandas as pd\n",
    "import numpy as np\n",
    "\n",
    "# persistant homology computations\n",
    "import oat_python as oat\n",
    "\n",
    "# linear programming\n",
    "import pulp\n",
    "lpsolver = pulp.COIN  # <- Slower, but installed with pulp by default\n",
    "# lpsolver = pulp.GUROBI  # <- Faster, but requires the gurobipy library and a gurobi license (free for acedemics)"
   ]
  },
  {
   "cell_type": "markdown",
   "id": "c3c7eab7",
   "metadata": {
    "id": "c3c7eab7"
   },
   "source": [
    "# Background: Simplicial Complexes, Cycles, and Persistent Homology\n",
    "\n",
    "We'll start with some background. Much of this should feel familiar, but there are a couple topics that will be of particular importance for cycle optimization that will be emphasized here.\n",
    "\n",
    "**Simplicial Complexes.** A *simplicical complex* is a structured set of simplices. A *simplex* is the convex hull of its vertices, so a simplex can be written as a collection of vertices $(v_1, v_2, \\dots, v_{n+1})$. A simplex's dimension is the number of vertices minus 1; a 0-dimensional simplex is a point, a 1-dimensional simplex is an edge, a 2-dimensional simplex is a triangle, and so on. In this notebook, we'll consider simplicical complexes with 0-, 1-, and 2- dimensional simplices, though the methods do extend to higher dimensions[^2].\n",
    "\n",
    "<div>\n",
    "    <img src=\"https://drive.google.com/uc?export=view&id=1BQdVwvNdHf9J2goQpQZ7khYnJiyhkbsO\" width=\"400\"/>\n",
    "    <figcaption>Example simplicial complex.</figcaption>\n",
    "</div>\n",
    "\n",
    "**Boundary Operator.** An $n$-dimensional simplex is surrounded by $(n-1)$-dimensional simplices that make up its *boundary*. Formally, we define the $n$-dimensional *boundary operator* $\\partial_n$ so that\n",
    "$$\n",
    "    \\partial_n (v_1, v_2, \\dots, v_{n+1}) = \\sum_{i = 1}^{n+1} (-1)^i (v_1, \\dots, \\hat{v}_i, \\dots, v_{n+1})\n",
    "$$\n",
    "where the hat in $\\hat{v}_i$ means $v_i$ is excluded. The sign of a simplex determines its orientation: $-(b, a) = (a, b)$.[^3]\n",
    "\n",
    "| Simplex | Boundary | Math | Image |\n",
    "| --- | --- | --- | --- |\n",
    "| 0-Simplex (Point) | 0 (Nothing) | $\\partial_0 (a) = 0$ | <div> <img src=\"https://drive.google.com/uc?export=view&id=1C-1f-d08N__iOipDOsLTDfOt7MEcha_a\" width=\"200\"/> </div> |\n",
    "| 1-Simplex (Line) | 0-Simplices (Points) | $\\partial_1 (ab) = a - b$ | <div> <img src=\"https://drive.google.com/uc?export=view&id=1PdeUHkedQ-gKP4Xqswd_Al-4hPOCJtia\" width=\"200\"/> </div> |\n",
    "| 2-Simplex (Triangle) | 1-Simplices (Lines) | $\\partial_1 (abc) = -bc + ac - ab$ | <div> <img src=\"https://drive.google.com/uc?export=view&id=1gppjG7lmjNrEqu1cHv3rmL9Uxdco9kUc\" width=\"200\"/> </div> |\n",
    "\n",
    "The boundary operator is linear, so the boundary of a chain (linear combination) of simplices is the boundary of each individual simplex. This means\n",
    "\n",
    "\\begin{align*}\n",
    "    \\partial_n (-\\sigma) &= - \\partial_n \\sigma \\\\\n",
    "    \\partial_n (\\sigma_1 + \\sigma_2) &= \\partial_n \\sigma_1 + \\partial_n \\sigma_2.\n",
    "\\end{align*}\n",
    "\n",
    "| Chain | Boundary | Math | Image |\n",
    "| --- | --- | --- | --- |\n",
    "| Linked Lines | Points | $\\partial_0 (ab + bc + cd) = a - d$ | <div> <img src=\"https://drive.google.com/uc?export=view&id=1fbqezKYWBYxQuh3pNjzKMQTSo5FYxRgL\" width=\"200\"/> </div> |\n",
    "| A Triangle's Boundary | 0 (Nothing) | $\\partial_1 (ab + bc + ca) = a - b$ | <div> <img src=\"https://drive.google.com/uc?export=view&id=1dnMwBgdEYlGKVnZG2pPgxR3LG8tU4NXQ\" width=\"200\"/> </div> |\n",
    "| A Cycle with Extra Bits | Points | $\\partial_1 (ab + bc + ca + bd + ce) = b - d + c - e$ | <div> <img src=\"https://drive.google.com/uc?export=view&id=1lRFy4UXV-QJbrnD61dFSSNzuGZowIqby\" width=\"200\"/> </div> |\n",
    "\n",
    "**Cycles.** A *cycle* in a simplicial complex is a chain of simplices that has no boundary, i.e.\n",
    "$$\n",
    "    \\partial_n (\\text{Cycle}) = 0.\n",
    "$$\n",
    "Since boundaries are always cycles, of particular interest are the cycles that are not a boundary of any higher dimensional simplices, since these are holes around some empty region in the simplicial complex. These form the homology group\n",
    "$$\n",
    "    H_n = \\underbrace{\\ker \\partial_n}_\\text{Cycles} / \\underbrace{\\operatorname{im} \\partial_{n+1}}_\\text{that aren't boundaries}.\n",
    "$$\n",
    "Since $\\partial_n$ is a linear operator, one cycle can be represented in many ways. Any boundaries or other cycles can be added to the initial cycle to form another representative of the same hole.\n",
    "\n",
    "<div>\n",
    "    <img src=\"https://drive.google.com/uc?export=view&id=1bPTN0VKceanIswiiR3usFFNGDNwnQUIx\" width=\"900\"/>\n",
    "    <figcaption>Example representatives for the sample hole. All three cycles surround the center gap, though they are all slightly different. The first one (Blue) is the tighest representative for the hole, the second (orange) is blue plus a boundary, and the third (green) is blue plus a cycle.</figcaption>\n",
    "</div>\n",
    "\n",
    "The cycle optimization procedures we'll implement all rely on this concept. To find an optimal cycle representative, we'll add linear combinations of cycles and boundaries together to minimize some $\\operatorname{loss}$ function of the cycle.\n",
    "\n",
    "**Filtration.** For TDA applications, we're interested in how cycles found via persistent homology in a *filtered simplicial complex* can be optimized, not just cycles in a single, static simplicial complex. A filtered simplicial complex builds the final simplicical complex by progressively adding simplices over a filtration instead of all at once.\n",
    "\n",
    "<div>\n",
    "    <img src=\"https://drive.google.com/uc?export=view&id=1ToBJJ-6hTcZa-CrG0G9kds_5O7GF77Vp\" width=\"900\"/>\n",
    "    <figcaption>A filtered simplicial complex.</figcaption>\n",
    "</div>\n",
    "\n",
    "Cycles don't necessarily exist through the whole filtration; they have\n",
    "- a birth filtration where they show up.\n",
    "- a death filtration where they fully close (become a boundary).\n",
    "\n",
    "Today, we'll be finding a cycle representative at the birth filtration, since this cycle representative will surround all iterations of the cycle. When we optimize, we'll put particular care into ensuring the cycle also is filled (dies) at the same filtration value as our initial representative.\n",
    "\n",
    "[^2]: More on that later!\n",
    "[^3]: The sign can be excluded when working in $\\mathbb{Z}_2$ coefficients, but we'll need it for optimization."
   ]
  },
  {
   "cell_type": "markdown",
   "id": "1b83f8ba",
   "metadata": {
    "id": "1b83f8ba"
   },
   "source": [
    "# Test Case\n",
    "Throughout this notebook, we'll optimize a cycle from a dataset sampled from an annulus. We'll try to find a representative for the hole in the center of the data."
   ]
  },
  {
   "cell_type": "code",
   "execution_count": null,
   "id": "0863bd53",
   "metadata": {
    "id": "0863bd53"
   },
   "outputs": [],
   "source": [
    "# config\n",
    "inner_radius = 1\n",
    "outer_radius = 1.5\n",
    "num_points = 150\n",
    "np.random.seed(100)\n",
    "\n",
    "# generate points\n",
    "r = np.random.uniform(inner_radius**2, outer_radius**2, num_points)**(1/2)  # sample points with uniform prob from an annulus\n",
    "theta = np.random.uniform(0, 2 * np.pi, num_points)\n",
    "pts = np.array((\n",
    "        r * np.cos(theta),  # x vales\n",
    "        r * np.sin(theta),  # y vales\n",
    "    )).T\n",
    "\n",
    "# plot it\n",
    "fig, ax = plt.subplots(figsize=(5, 5))\n",
    "ax.axis('off')  # remove frame and lables\n",
    "ax.axis('equal')  # equal scaleing\n",
    "ax.add_patch(Annulus((0, 0), outer_radius, outer_radius - inner_radius, color='gray', alpha=0.25))  # underlying space\n",
    "ax.scatter(pts[:, 0], pts[:, 1], c='k', s=10)  # points\n",
    "fig.tight_layout()"
   ]
  },
  {
   "cell_type": "markdown",
   "id": "cedc9594",
   "metadata": {
    "id": "cedc9594"
   },
   "source": [
    "# Persistent Homology\n",
    "Compute persistent homology on our point set as a Vietoris-Rips complex using the OAT pipeline. This process gives us two important objects:\n",
    "1. `factored`: This will be incredibly important, since it represents the U-match factorization of the simplicial complex. This object is how OAT gives us access to the boundary matrix and allows us to compute persistent homology.\n",
    "2. `homology`: This contains the information encoded in a barcode, the birth and death simplices for each feature, and a (non-optimal) cycle representative and bounding chain for the feature. We'll take a look at these in a second!"
   ]
  },
  {
   "cell_type": "code",
   "execution_count": null,
   "id": "1e292c1c",
   "metadata": {
    "id": "1e292c1c"
   },
   "outputs": [],
   "source": [
    "## oat peristent homology pipeline\n",
    "max_filtration = 2.01  # max encolosing distance\n",
    "# this ^^ could be computed using oat.dissimilarity.enclosing_from_cloud(pts), but I'm going to\n",
    "# use some prior knowledge about the points to choose something smaller that still works\n",
    "distance_matrix = oat.dissimilarity.matrix_from_cloud(pts, max_filtration) # distance matrix\n",
    "factored = oat.rust.FactoredBoundaryMatrixVr(distance_matrix, 2)  # umatch factorization object up to dimension 2\n",
    "homology = factored.homology(True, True)  # compute homology with both cycle and bounding chain representatives\n",
    "\n",
    "## plot the barcode\n",
    "fig = oat.plot.barcode(homology)\n",
    "fig.update_layout(width=800, height=400, margin=dict(l=20, r=20, t=20, b=20))\n",
    "fig.show()"
   ]
  },
  {
   "cell_type": "markdown",
   "id": "9a71dade",
   "metadata": {
    "id": "9a71dade"
   },
   "source": [
    "In the barcode, we see one very long-lived 1-dimensional feature, which is the one we'll be interested in."
   ]
  },
  {
   "cell_type": "code",
   "execution_count": null,
   "id": "6f9b2af9",
   "metadata": {
    "id": "6f9b2af9"
   },
   "outputs": [],
   "source": [
    "# identify the longest lifetime feature\n",
    "idx = (\n",
    "        homology[homology['dimension'] == 1]  # filter to just dimension 1 features\n",
    "            .apply(lambda r: r['death'] - r['birth'], axis=1)  # compute the lifetime\n",
    "            .idxmax()  # index (in the dataframe) of the longest lived feature\n",
    "    )\n",
    "\n",
    "idx"
   ]
  },
  {
   "cell_type": "markdown",
   "id": "ceef2d95",
   "metadata": {
    "id": "ceef2d95"
   },
   "source": [
    "# An Initial Cycle Representative\n",
    "If we just want *some* cycle representative, OAT makes it easy. In the homology dataframe, there is a cycle representative we can use.\n",
    "\n",
    "OAT also gives us a (again, possibly non-optimal) *bounding chain*. Since we have a filtered simplicial complex, eventually the cycle can fill in and become a boundary. The bounding chain is the region that is within the simplicial complex at the cycle's death filtration and has the cycle representative as its boundary."
   ]
  },
  {
   "cell_type": "code",
   "execution_count": null,
   "id": "cc849e06",
   "metadata": {
    "id": "cc849e06"
   },
   "outputs": [],
   "source": [
    "# get the cycle representative and bounding chain\n",
    "initial_cycle = homology.loc[idx, 'cycle representative']\n",
    "initial_bounding_chain = homology.loc[idx, 'bounding chain']\n",
    "\n",
    "# make a plot\n",
    "fig, ax = plt.subplots(figsize=(5, 5))\n",
    "ax.axis('off')  # remove frame and lables\n",
    "ax.axis('equal')  # equal scaleing\n",
    "\n",
    "# plot the point\n",
    "ax.scatter(pts[:, 0], pts[:, 1], c='k', s=10, zorder=2)  # points\n",
    "\n",
    "# plot the cycle\n",
    "lines = LineCollection(  # we could loop and plot each line individually, but that takes longer to render. linecollections will be fast\n",
    "            np.array((pts[initial_cycle['simplex'].str[0]], pts[initial_cycle['simplex'].str[1]])).swapaxes(0, 1),  # points along each ot the lines\n",
    "            color='k',\n",
    "            lw=1.5,\n",
    "            zorder=3\n",
    "        )\n",
    "ax.add_collection(lines)\n",
    "\n",
    "# plot the bounding chain\n",
    "tris = PatchCollection(  # again, we could loop and use fill but thats slower than a PatchCollection\n",
    "        [Polygon(pts[s]) for s in initial_bounding_chain['simplex']],\n",
    "        color='gray',\n",
    "        edgecolor=None,  # no edges\n",
    "        alpha=0.25,\n",
    "        zorder=1\n",
    "    )\n",
    "ax.add_collection(tris)\n",
    "\n",
    "# some final formatting\n",
    "fig.tight_layout()"
   ]
  },
  {
   "cell_type": "markdown",
   "id": "ccd0a920",
   "metadata": {
    "id": "ccd0a920"
   },
   "source": [
    "We have a cycle representative that surrounds the center hole! However, there are a couple of things you may notice in this image that seem non-ideal.\n",
    "\n",
    "First, the cycle zigs and zags around a lot, especially in the center left and bottom right. It is easy to believe that there could be a cycle that more tightly surrounds the cycle.\n",
    "\n",
    "Second, the bounding chain overlaps itself a lot. Although its boundary is the cycle,[^4] it goes in and out of the area bounded by the cycle quite a bit and overlaps itself in those areas. Could there be a better bounding chain that avoids this?\n",
    "\n",
    "[^4]: For now, I promise this is true. Later, we'll have a way to check for sure."
   ]
  },
  {
   "cell_type": "markdown",
   "id": "d4077e2b",
   "metadata": {
    "id": "d4077e2b"
   },
   "source": [
    "# OAT Optimization\n",
    "OAT makes it easy to find an optimal cycle representative. Using the `factored` object, we can call `factored.optimize_cycle` on the birth simplex of the cycle we want an optimal cycle representative of to get a tighter representative for the cycle"
   ]
  },
  {
   "cell_type": "code",
   "execution_count": null,
   "id": "8dc99c52",
   "metadata": {
    "id": "8dc99c52"
   },
   "outputs": [],
   "source": [
    "# optimize the cycle\n",
    "birth_simplex = homology.loc[idx, 'birth simplex']\n",
    "oat_optimal_cycle = factored.optimize_cycle(\n",
    "        birth_simplex,\n",
    "        problem_type='preserve PH basis',  # generally this is the problem youll want to use. Try help(factored.optimize_cycle) for other options\n",
    "    ).loc['optimal cycle', 'chain']  # optimize_cycle returns a dataframe with a lot in it, we'll only use the oat_optimal_cycle\n",
    "\n",
    "# make a plot\n",
    "fig, ax = plt.subplots(figsize=(5, 5))\n",
    "ax.axis('off')  # remove frame and lables\n",
    "ax.axis('equal')  # equal scaleing\n",
    "\n",
    "# plot the point\n",
    "ax.scatter(pts[:, 0], pts[:, 1], c='k', s=10, zorder=2)  # points\n",
    "\n",
    "# plot the initial cycle\n",
    "lines = LineCollection(\n",
    "            np.array((pts[initial_cycle['simplex'].str[0]], pts[initial_cycle['simplex'].str[1]])).swapaxes(0, 1),\n",
    "            color='tab:orange',\n",
    "            lw=1.5,\n",
    "            zorder=3,\n",
    "            label='Initial Cycle',\n",
    "        )\n",
    "ax.add_collection(lines)\n",
    "\n",
    "# plot the optmial cycle\n",
    "lines = LineCollection(\n",
    "            np.array((pts[oat_optimal_cycle['simplex'].str[0]], pts[oat_optimal_cycle['simplex'].str[1]])).swapaxes(0, 1),\n",
    "            color='tab:blue',\n",
    "            lw=1.5,\n",
    "            zorder=3,\n",
    "            label='Optimal Cycle',\n",
    "        )\n",
    "ax.add_collection(lines)\n",
    "\n",
    "# some final formatting\n",
    "ax.legend(frameon=False, loc='upper left', fontsize='small')\n",
    "fig.tight_layout()"
   ]
  },
  {
   "cell_type": "markdown",
   "id": "de2f31c2",
   "metadata": {
    "id": "de2f31c2"
   },
   "source": [
    "This feels like a much better cycle representative. It's smaller and sit closer to the hole as it goes around it. If you just want a reasonable cycle representative for the hole, this is a great option.\n",
    "\n",
    "Still, it can be useful to get a better understanding of what OAT actually is doing when it optimizes this cycle. Additionally, a handful of choices went into making this cycle representative that will become more explicit later in the notebook that you may not want in your application. To address both of these, we're going to use the objects from OAT to optimize a cycle ourselves."
   ]
  },
  {
   "cell_type": "markdown",
   "id": "5fd41dcd",
   "metadata": {
    "id": "5fd41dcd"
   },
   "source": [
    "# The Cycle Optimization Problem\n",
    "We find optimal cycles using the fact that we can add cycles and boundaries to the initial cycle representative to get new cycle representatives. Specifically, we'll minimize some loss function of the optimal cycle representative while making sure that it is the sum of some the initial cycle representative plus other valid cycle representatives and boundaries.\n",
    "\n",
    "A valid boundary is one that exists at the birth filtration value. This ensures that the cycle still has boundary zero at the birth filtration, making it a cycle. Valid cycles similarly need to exist at the birth filtration *and* have the additional constraint that they need to die before the cycles death filtration. This ensures that the optimal cycle representative dies at the same filtration as the initial cycle representative. If we added later dying cycles, the cycle would not close at the death filtration and there would still be some open area within it.\n",
    "\n",
    "Formally, we can find the optimal cycle representative $\\mathbf{x}$ by solving\n",
    "\n",
    "\\begin{align*}\n",
    "    \\underset{\\mathbf{x}, \\mathbf{p}, \\mathbf{q}}{\\operatorname{minimize}} \\quad & \\operatorname{loss}(\\mathbf{x}) \\\\\n",
    "    \\operatorname{subject~to} \\quad & \\mathbf{x}[\\mathcal{R}] = \\mathbf{x}^{Init}[\\mathcal{R}] + \\partial_{n+1} [\\mathcal{R}, \\mathcal{P}] \\mathbf{p} + A [\\mathcal{R}, \\mathcal{q}] \\mathbf{q}\n",
    "\\end{align*}\n",
    "\n",
    "where $\\mathbf{x}^{Init}$ is the initial cycle representative, $\\partial_{n+1}$ is the boundary operator ($n$ is the dimension of $\\mathbf{x}^{Init}$), and $A$ is a basis of all cycles. The solution $\\mathbf{x}$ will be a vector representation of the cycle where each entry indexes a simplex and tells us whether it should be excluded (0), included (1), or included with reversed orientation (-1). The index sets ensure that the included cycles and boundaries are valid, so\n",
    "\n",
    "\\begin{align*}\n",
    "    \\mathcal{P} &= \\{i: \\operatorname{Birth}(A[:, i]) \\leq \\operatorname{Birth}(\\mathbf{x}^{Init}),  \\operatorname{Death}(A[:, i]) \\leq \\operatorname{Death}(\\mathbf{x}^{Orig}) ,~A[:, i] \\neq \\mathbf{x}^{Orig}\\} \\\\\n",
    "    \\mathcal{Q} &= \\{\\tau \\in S_{n+1} (K): \\operatorname{Birth}(\\tau) \\leq \\operatorname{Birth}(\\mathbf{x}^{Init})\\} \\\\\n",
    "    \\mathcal{R} &= \\{\\sigma \\in S_n (K): \\operatorname{Birth}(\\sigma) \\leq \\operatorname{Birth}(\\mathbf{x}^{Init})\\}.\n",
    "\\end{align*}\n"
   ]
  },
  {
   "cell_type": "markdown",
   "id": "31f998cf",
   "metadata": {
    "id": "31f998cf"
   },
   "source": [
    "# Building the Constraint Matrices\n",
    "To solve this LP, we'll need to create the matrices $A$ and $\\partial_{n+1}$. OAT gives us access to everything we need to do that!\n",
    "\n",
    "**Boundary Matrix.** We'll start by finding $\\partial_{n+1}$. From the factored object in OAT we can get the boundary matrix for all dimensions $\\partial$ where\n",
    "$$\n",
    "    \\partial = \\begin{pmatrix}\n",
    "        0 & \\partial_1 & 0 & 0 \\\\\n",
    "        0 & 0 & \\partial_2 & 0 & \\dots \\\\\n",
    "        0 & 0 & 0 & \\partial_3 \\\\\n",
    "        0 & 0 & 0 & 0 \\\\\n",
    "        & \\vdots & & & \\ddots \\\\\n",
    "    \\end{pmatrix}.\n",
    "$$\n",
    "Therefore, we just need to select the correct block of $\\partial$ to get the part we're interested in."
   ]
  },
  {
   "cell_type": "code",
   "execution_count": null,
   "id": "df69409b",
   "metadata": {
    "id": "df69409b"
   },
   "outputs": [],
   "source": [
    "# indicies of the boundary matrix (what we use to slice it)\n",
    "boundary_matrix_indices = factored.indices_boundary_matrix()  # list of simplices in the simplicial complex\n",
    "boundary_matrix_indices['simplex'] = boundary_matrix_indices['simplex'].apply(tuple)  # make this hashable so we can merge on it (useful later)\n",
    "boundary_matrix_indices['dimension'] = boundary_matrix_indices['simplex'].str.len() - 1  # make filtering on dimension faster\n",
    "\n",
    "# the boundary matrix\n",
    "boundary_matrix = boundary_matrix = (\n",
    "        factored.boundary_matrix()\n",
    "            .astype(float)  # oat uses fractions, which has compuational advantages within oat but are hard to work with outside of it\n",
    "            [(boundary_matrix_indices['dimension'] == 1).values]  # rows for 1d simplices\n",
    "            [:, (boundary_matrix_indices['dimension'] == 2).values]  # columns for 2d simplices\n",
    "            # rows and columns need to be seprate bc reasons (scipy throws and error if you do them at the same time)\n",
    "    )\n",
    "\n",
    "# keep the indices important for us\n",
    "dim_1_indices = boundary_matrix_indices.loc[boundary_matrix_indices['dimension'] == 1, ['simplex', 'filtration']].reset_index(drop=True)\n",
    "dim_2_indices = boundary_matrix_indices.loc[boundary_matrix_indices['dimension'] == 2, ['simplex', 'filtration']].reset_index(drop=True)\n",
    "del boundary_matrix_indices\n",
    "\n",
    "# plot boundary matrix (pixel where nonzero)\n",
    "plt.spy(boundary_matrix, marker=',', color='k')"
   ]
  },
  {
   "cell_type": "markdown",
   "id": "2915b23c",
   "metadata": {
    "id": "2915b23c"
   },
   "source": [
    "**Cycle Basis.** Next, we'll create the cycle basis. To make this, we'll use the cycle representatives that we have in the homology dataframe. To vectorize them so that they are consistent with the boundary matrix, we just use `dim_1_indices` which tells us which simplices represent which row of the boundary matrix."
   ]
  },
  {
   "cell_type": "code",
   "execution_count": null,
   "id": "56d39f00",
   "metadata": {
    "id": "56d39f00"
   },
   "outputs": [],
   "source": [
    "# vectorize a cycle\n",
    "def cycle_vector_indices(cycle, dim_1_indices=dim_1_indices):\n",
    "    # merge onto dim_1_indices\n",
    "    cycle = dim_1_indices[['simplex']].merge(\n",
    "            cycle.assign(simplex=lambda x: x['simplex'].apply(tuple)),  # tuples are mergeable\n",
    "            on='simplex',\n",
    "            how='left',  # keep the index (numbers in index correspond to the rwo)\n",
    "        ).dropna()\n",
    "    cycle['coefficient'] = cycle['coefficient'].astype(float)  # oat uses a fraction datatype that wont work with other things\n",
    "    cycle = cycle.reset_index(names='row')[['coefficient', 'row']]  # keep the coeffiecint and row in the matrix (can make a sparse matrix from that)\n",
    "\n",
    "    return cycle\n",
    "\n",
    "# vector represetnation of all cycles\n",
    "cycle_basis_data = pd.concat([\n",
    "        cycle_vector_indices(cyc).assign(col=i)  # each 'col' column is a unique feature\n",
    "            for i, cyc in enumerate(homology[homology['dimension'] == 1]['cycle representative'])\n",
    "    ])\n",
    "cycle_basis = sparse.csr_array(\n",
    "        (cycle_basis_data['coefficient'], (cycle_basis_data['row'], cycle_basis_data['col'])),\n",
    "        shape=(len(dim_1_indices), (homology['dimension'] == 1).sum()),  # has # of dim 1 simplices rows and # of dim 1 cycles columns\n",
    "    )\n",
    "del cycle_basis_data\n",
    "\n",
    "# plot cycle basis (pixel where nonzero)\n",
    "plt.spy(cycle_basis, marker=',', color='k')"
   ]
  },
  {
   "cell_type": "markdown",
   "id": "498bb12b",
   "metadata": {
    "id": "498bb12b"
   },
   "source": [
    "# Edge-Loss Optimization\n",
    "To find optimal cycle representatives, OAT solves an edge-loss problem. That means it makes the cycle itself (the perimeter the bounds the hole) as small as possible.\n",
    "\n",
    "We can implement this ourselves using $\\operatorname{loss}(\\mathbf{x}) = c^\\top |\\mathbf{x}|$ where $c$ is a vector of filtration values (distances) where the simplices show up. This is a linear program, so it's easy to solve using a number of optimization libraries. We'll use PuLP, since it's open source (i.e. free) and fast."
   ]
  },
  {
   "cell_type": "code",
   "execution_count": null,
   "id": "38efaacd",
   "metadata": {
    "id": "38efaacd"
   },
   "outputs": [],
   "source": [
    "# index sets\n",
    "birth = homology.loc[idx, 'birth']\n",
    "death = homology.loc[idx, 'death']\n",
    "potential_edges = np.where(dim_1_indices['filtration'] <= birth)[0]  # curlR, allowed edges\n",
    "potential_triangles = np.where(dim_2_indices['filtration'] <= birth)[0]  # curlP, allowed triangles\n",
    "cycle_mask = (homology[homology['dimension'] == 1][['birth', 'death']] <= np.array([birth, death])).all(axis=1)\n",
    "potential_cycles = np.where(cycle_mask & (cycle_mask.index != idx))[0]  # curlQ, allowed cycles\n",
    "init_cycle = cycle_basis[potential_edges, np.where(cycle_mask.index == idx)[0][0]].toarray()  # xinit, initial cycle\n",
    "\n",
    "# build the solver\n",
    "problem = pulp.LpProblem('Edge-Loss_Optimization', pulp.LpMinimize)\n",
    "\n",
    "# variables we fit\n",
    "cycle_pos = pulp.LpVariable.dicts('xpos', potential_edges, lowBound=0, cat='Continuous')  # cant do absolute value, instead x = x+ - x- and both are\n",
    "cycle_neg = pulp.LpVariable.dicts('xneg', potential_edges, lowBound=0, cat='Continuous')  # above 0 so |x| = x+ + x-\n",
    "boundaries = pulp.LpVariable.dicts('p', range(len(potential_triangles)), cat='Continuous')\n",
    "cycles = pulp.LpVariable.dicts('q', range(len(potential_cycles)), cat='Continuous')\n",
    "\n",
    "# objective\n",
    "problem += pulp.lpDot(dim_1_indices.loc[potential_edges, 'filtration'].values, [cycle_pos[i] + cycle_neg[i] for i in potential_edges])\n",
    "\n",
    "# constraints\n",
    "for i in potential_edges:\n",
    "    # can potentially add boudnaries\n",
    "    bdry_expression = pulp.lpSum(boundary_matrix[i, j] * boundaries[j] for j in boundary_matrix[i, potential_triangles].indices)\n",
    "    # can potentially add cycles\n",
    "    cyc_expression = pulp.lpSum(cycle_basis[i, potential_cycles].tocsr()[j] * cycles[j] for j in cycle_basis[i, potential_cycles].tocsr().indices)\n",
    "    # boundarys + cycles + initial cycle = new cycle\n",
    "    problem += (bdry_expression + cyc_expression + init_cycle[i] == cycle_pos[i] - cycle_neg[i], f'row_{i}')\n",
    "\n",
    "# solve it\n",
    "problem.solve(lpsolver())\n",
    "\n",
    "# collect the results\n",
    "my_optimal_cycle = (\n",
    "        dim_1_indices.loc[potential_edges]\n",
    "            .assign(coefficient=[cycle_pos[i].value() - cycle_neg[i].value() for i in potential_edges])  # fill in the coefficient column\n",
    "    )\n",
    "my_optimal_cycle = my_optimal_cycle[~np.isclose(my_optimal_cycle['coefficient'], 0)].reset_index(drop=True)  # collect only nnz coeffiencnts\n",
    "\n",
    "# make a plot\n",
    "fig, ax = plt.subplots(figsize=(5, 5))\n",
    "ax.axis('off')  # remove frame and lables\n",
    "ax.axis('equal')  # equal scaleing\n",
    "\n",
    "# plot the point\n",
    "ax.scatter(pts[:, 0], pts[:, 1], c='k', s=10, zorder=2)  # points\n",
    "\n",
    "# plot the initial cycle\n",
    "lines = LineCollection(\n",
    "            np.array((pts[initial_cycle['simplex'].str[0]], pts[initial_cycle['simplex'].str[1]])).swapaxes(0, 1),\n",
    "            color='tab:orange',\n",
    "            lw=1.5,\n",
    "            zorder=3,\n",
    "            label='Initial Cycle',\n",
    "        )\n",
    "ax.add_collection(lines)\n",
    "\n",
    "# plot the optmial cycle\n",
    "lines = LineCollection(\n",
    "            np.array((pts[my_optimal_cycle['simplex'].str[0]], pts[my_optimal_cycle['simplex'].str[1]])).swapaxes(0, 1),\n",
    "            color='tab:blue',\n",
    "            lw=1.5,\n",
    "            zorder=3,\n",
    "            label='Optimal Cycle',\n",
    "        )\n",
    "ax.add_collection(lines)\n",
    "\n",
    "# some final formatting\n",
    "ax.legend(frameon=False, loc='upper left', fontsize='small')\n",
    "fig.tight_layout()"
   ]
  },
  {
   "cell_type": "markdown",
   "id": "e41f2adf",
   "metadata": {
    "id": "e41f2adf"
   },
   "source": [
    "The objective value for this cycle is equal to the one we get from OAT (with some numerical error)."
   ]
  },
  {
   "cell_type": "code",
   "execution_count": null,
   "id": "e022a98b",
   "metadata": {
    "id": "e022a98b"
   },
   "outputs": [],
   "source": [
    "# check the objective\n",
    "oat_objective = (oat_optimal_cycle['filtration'] * np.abs(oat_optimal_cycle['coefficient'])).sum()\n",
    "my_objective = (my_optimal_cycle['filtration'] * np.abs(my_optimal_cycle['coefficient'])).sum()\n",
    "assert np.isclose(oat_objective - my_objective, 0)\n",
    "\n",
    "# plot the two\n",
    "fig, ax = plt.subplots(figsize=(5, 5))\n",
    "ax.axis('off')  # remove frame and lables\n",
    "ax.axis('equal')  # equal scaleing\n",
    "\n",
    "# plot the point\n",
    "ax.scatter(pts[:, 0], pts[:, 1], c='k', s=10, zorder=2)  # points\n",
    "\n",
    "# plot the initial cycle\n",
    "lines = LineCollection(\n",
    "            np.array((pts[oat_optimal_cycle['simplex'].str[0]], pts[oat_optimal_cycle['simplex'].str[1]])).swapaxes(0, 1),\n",
    "            color='tab:orange',\n",
    "            lw=1.5,\n",
    "            zorder=3,\n",
    "            label='Oat Optimal Cycle',\n",
    "        )\n",
    "ax.add_collection(lines)\n",
    "\n",
    "# plot the optmial cycle\n",
    "lines = LineCollection(\n",
    "            np.array((pts[my_optimal_cycle['simplex'].str[0]], pts[my_optimal_cycle['simplex'].str[1]])).swapaxes(0, 1),\n",
    "            color='tab:blue',\n",
    "            ls=':',\n",
    "            lw=1.5,\n",
    "            zorder=3,\n",
    "            label='My Optimal Cycle',\n",
    "        )\n",
    "ax.add_collection(lines)\n",
    "\n",
    "# some final formatting\n",
    "ax.legend(frameon=False, loc='upper left', fontsize='small')\n",
    "fig.tight_layout()"
   ]
  },
  {
   "cell_type": "markdown",
   "id": "b878de98",
   "metadata": {
    "id": "b878de98"
   },
   "source": [
    "# A Faster Way\n",
    "The boundary matrix is very high rank, so we don't need to include every column, and doing so can add unneeded complexity to the problem by making it larger than it has to be. We could row reduce `boundary_matrix` to figure out which columns are important to include, but OAT does the work for us.\n",
    "\n",
    "The `jordan_block_indices` from the factored object include the birth simplex of the minimal cycles and boundaries needed to create a basis for $A$ and $\\partial_{n+1}$. From these, we can use `jordan_basis_vector` to get the cycle (or boundary) corresponding to that particular column in the basis. This is slower to build, but makes solving the LP faster, so is ideal if you plan to optimize more cycles."
   ]
  },
  {
   "cell_type": "code",
   "execution_count": null,
   "id": "802b1668",
   "metadata": {
    "id": "802b1668"
   },
   "outputs": [],
   "source": [
    "# get the indices\n",
    "jordan_indices = factored.jordan_block_indices()\n",
    "jordan_indices = jordan_indices[jordan_indices['dimension'] == 1].reset_index(drop=True)\n",
    "jordan_indices['birth simplex'] = jordan_indices['birth simplex'].apply(tuple)  # make a hashable datatype\n",
    "\n",
    "# loop, and build a basis\n",
    "jordan_basis_data = pd.concat([\n",
    "        cycle_vector_indices(factored.jordan_basis_vector(bs)).assign(col=i)  # each 'col' column is a unique feature\n",
    "            for i, bs in enumerate(jordan_indices['birth simplex'])\n",
    "    ])\n",
    "jordan_basis = sparse.csr_array(\n",
    "        (jordan_basis_data['coefficient'], (jordan_basis_data['row'], jordan_basis_data['col'])),\n",
    "        shape=(len(dim_1_indices), len(jordan_indices)),  # has # of dim 1 simplices rows and # of dim 1 cycles columns\n",
    "    )\n",
    "del jordan_basis_data\n",
    "\n",
    "# filter the indices to get important columns\n",
    "jordan_indices = (  # this will be used to decide which columns to include later\n",
    "        jordan_indices\n",
    "            [['birth simplex', 'birth filtration', 'death filtration']]\n",
    "            .rename(columns={'birth filtration': 'birth', 'death filtration': 'death'})\n",
    "    )\n",
    "\n",
    "# plot cycle basis (pixel where nonzero)\n",
    "plt.spy(jordan_basis, marker=',', color='k')"
   ]
  },
  {
   "cell_type": "markdown",
   "id": "c3b4e5f8",
   "metadata": {
    "id": "c3b4e5f8"
   },
   "source": [
    "**LP.** This Jordan Basis can be used in the LP in place of $A$ and $\\partial_{n+1}$!"
   ]
  },
  {
   "cell_type": "code",
   "execution_count": null,
   "id": "1f3df767",
   "metadata": {
    "id": "1f3df767"
   },
   "outputs": [],
   "source": [
    "# index sets\n",
    "birth = homology.loc[idx, 'birth']\n",
    "death = homology.loc[idx, 'death']\n",
    "potential_edges = np.where(dim_1_indices['filtration'] <= birth)[0]  # curlR, allowed edges\n",
    "jordan_mask = (jordan_indices[['birth', 'death']] <= np.array([birth, death])).all(axis=1)\n",
    "potential_jordan_vectors = np.where(jordan_mask & (jordan_indices['birth simplex'] != tuple(birth_simplex)))[0]  # curlQ, allowed cycles\n",
    "init_cycle = jordan_basis[potential_edges, np.where(jordan_indices['birth simplex'] == tuple(birth_simplex))[0][0]].toarray()  # xinit, initial cycle\n",
    "\n",
    "# build the solver\n",
    "problem = pulp.LpProblem('Jordan_Edge-Loss_Optimization', pulp.LpMinimize)\n",
    "\n",
    "# variables we fit\n",
    "cycle_pos = pulp.LpVariable.dicts('xpos', potential_edges, lowBound=0, cat='Continuous')  # cant do absolute value, instead x = x+ - x- and both are\n",
    "cycle_neg = pulp.LpVariable.dicts('xneg', potential_edges, lowBound=0, cat='Continuous')  # above 0 so |x| = x+ + x-\n",
    "jordan_cols = pulp.LpVariable.dicts('pq', range(len(potential_jordan_vectors)), cat='Continuous')\n",
    "\n",
    "# objective\n",
    "problem += pulp.lpDot(dim_1_indices.loc[potential_edges, 'filtration'].values, [cycle_pos[i] + cycle_neg[i] for i in potential_edges])\n",
    "\n",
    "# constraints\n",
    "for i in potential_edges:\n",
    "    # can potentially add columns of the matrix\n",
    "    jordan_basis_i = jordan_basis[i, potential_jordan_vectors].tocsr()\n",
    "    jordan_expression = pulp.lpSum(jordan_basis_i[j] * jordan_cols[j] for j in jordan_basis_i.indices)\n",
    "    # jordan columns + initial cycle = new cycle\n",
    "    problem += (jordan_expression + init_cycle[i] == cycle_pos[i] - cycle_neg[i], f'row_{i}')\n",
    "\n",
    "# solve it\n",
    "problem.solve(lpsolver())\n",
    "\n",
    "# collect the results\n",
    "jordan_optimal_cycle = (\n",
    "        dim_1_indices.loc[potential_edges]\n",
    "            .assign(coefficient=[cycle_pos[i].value() - cycle_neg[i].value() for i in potential_edges])  # fill in the coefficient column\n",
    "    )\n",
    "jordan_optimal_cycle = jordan_optimal_cycle[~np.isclose(jordan_optimal_cycle['coefficient'], 0)].reset_index(drop=True)  # collect only nnz coeffiencnts\n",
    "\n",
    "# make a plot\n",
    "fig, ax = plt.subplots(figsize=(5, 5))\n",
    "ax.axis('off')  # remove frame and lables\n",
    "ax.axis('equal')  # equal scaleing\n",
    "\n",
    "# plot the point\n",
    "ax.scatter(pts[:, 0], pts[:, 1], c='k', s=10, zorder=2)  # points\n",
    "\n",
    "# plot the initial cycle\n",
    "lines = LineCollection(\n",
    "            np.array((pts[initial_cycle['simplex'].str[0]], pts[initial_cycle['simplex'].str[1]])).swapaxes(0, 1),\n",
    "            color='tab:orange',\n",
    "            lw=1.5,\n",
    "            zorder=3,\n",
    "            label='Initial Cycle',\n",
    "        )\n",
    "ax.add_collection(lines)\n",
    "\n",
    "# plot the optmial cycle\n",
    "lines = LineCollection(\n",
    "            np.array((pts[jordan_optimal_cycle['simplex'].str[0]], pts[jordan_optimal_cycle['simplex'].str[1]])).swapaxes(0, 1),\n",
    "            color='tab:blue',\n",
    "            lw=1.5,\n",
    "            zorder=3,\n",
    "            label='Optimal Cycle',\n",
    "        )\n",
    "ax.add_collection(lines)\n",
    "\n",
    "# some final formatting\n",
    "ax.legend(frameon=False, loc='upper left', fontsize='small')\n",
    "fig.tight_layout()"
   ]
  },
  {
   "cell_type": "markdown",
   "id": "cafc5d50",
   "metadata": {
    "id": "cafc5d50"
   },
   "source": [
    "And, it gets the same solution!"
   ]
  },
  {
   "cell_type": "code",
   "execution_count": null,
   "id": "f8b50f05",
   "metadata": {
    "id": "f8b50f05"
   },
   "outputs": [],
   "source": [
    "# check the objective\n",
    "my_objective = (my_optimal_cycle['filtration'] * np.abs(my_optimal_cycle['coefficient'])).sum()\n",
    "jordan_objective = (jordan_optimal_cycle['filtration'] * np.abs(jordan_optimal_cycle['coefficient'])).sum()\n",
    "assert np.isclose(jordan_objective - my_objective, 0)"
   ]
  },
  {
   "cell_type": "markdown",
   "id": "1ca8edcc",
   "metadata": {
    "id": "1ca8edcc"
   },
   "source": [
    "# Bounding Chains\n",
    "\n",
    "How do we find a bounding chain for the optimal cycle? Again, we turn to linear programming!\n",
    "\n",
    "Remember, the bounding chain is the set of $(n+1)$-simplices (in this can triangles) whose boundary is the cycle. Therefore, we can solve for the bounding chain $\\mathbf{x}^{BC}$ so that\n",
    "$$\n",
    "    \\partial_{n+1} \\mathbf{x}^{BC} = \\mathbf{x}\n",
    "$$\n",
    "where $\\mathbf{x}$ is the optimal cycle we found in the past step. Because $\\partial_{n+1}$ is high rank, this problem has many solutions, many of which will overlap like we observed in the bounding chain we got from OAT. To avoid this, we'll solve for the *optimal bounding chain* by solving the linear program\n",
    "\n",
    "\\begin{align*}\n",
    "    \\underset{\\mathbf{x}^{BC}}{\\operatorname{minimize}} \\quad & c^\\top |\\mathbf{x}^{BC}| \\\\\n",
    "    \\operatorname{subject~to} \\quad & \\partial_{n+1} \\mathbf{x}^{BC} = \\mathbf{x}\n",
    "\\end{align*}\n",
    "where $c$ is a vector of triangle areas.\n",
    "\n",
    "Note: Because we're including simplices at a higher filtration, this is a much larger problem and can take much longer. On my laptop this takes ~1 minute using the COIN solver. If you want it be faster get a Gurobi license, and it will take seconds."
   ]
  },
  {
   "cell_type": "code",
   "execution_count": null,
   "id": "83cf61b0",
   "metadata": {
    "id": "83cf61b0"
   },
   "outputs": [],
   "source": [
    "# find the area of each triangle, use Heron's formula https://en.wikipedia.org/wiki/Heron's_formula\n",
    "a = pd.DataFrame(dim_2_indices['simplex'].str[:2]).merge(dim_1_indices, on='simplex', how='left')['filtration']\n",
    "b = pd.DataFrame(dim_2_indices['simplex'].str[:1] + dim_2_indices['simplex'].str[2:]).merge(dim_1_indices, on='simplex', how='left')['filtration']\n",
    "c = pd.DataFrame(dim_2_indices['simplex'].str[1:]).merge(dim_1_indices, on='simplex', how='left')['filtration']\n",
    "s = (a + b + c) / 2\n",
    "area = np.sqrt(s * (s - a) * (s - b) * (s - c)).values\n",
    "del a, b, c, s\n",
    "\n",
    "# the bounding chian exists at the death time, filter to then\n",
    "death = homology.loc[idx, 'death']\n",
    "potential_edges = np.where(dim_1_indices['filtration'] <= death)[0]  # curlR, allowed edges\n",
    "potential_triangles = np.where(dim_2_indices['filtration'] <= death)[0]  # curlP, allowed triangles\n",
    "\n",
    "# get a vector representation of the optimal cycles\n",
    "cycle_indices = cycle_vector_indices(jordan_optimal_cycle)\n",
    "cycle_vector = np.zeros(potential_edges[-1] + 1)\n",
    "cycle_vector[cycle_indices['row']] = cycle_indices['coefficient']\n",
    "\n",
    "# build the solver\n",
    "problem = pulp.LpProblem('Minimal_Bounding_Chain', pulp.LpMinimize)\n",
    "\n",
    "# variables we fit\n",
    "bounding_chain_pos = pulp.LpVariable.dicts('xbcpos', potential_triangles, lowBound=0, cat='Continuous')  # cant do absolute value, instead x = x+ - x- and both are\n",
    "bounding_chain_neg = pulp.LpVariable.dicts('xbcneg', potential_triangles, lowBound=0, cat='Continuous')  # above 0 so |x| = x+ + x-\n",
    "\n",
    "# objective\n",
    "# add a little bit to the area so there is a unique solution\n",
    "# there are many options for triangles that would fit within the region, this picks one with fewer tirnalges\n",
    "problem += pulp.lpDot(area + 1e-3, [bounding_chain_pos[i] + bounding_chain_neg[i] for i in potential_triangles])\n",
    "\n",
    "# constraints\n",
    "for i in potential_edges:\n",
    "    # can potentially add columns of the matrix\n",
    "    boundary_expression = pulp.lpSum(boundary_matrix[i, j] * (bounding_chain_pos[j] - bounding_chain_neg[j]) for j in boundary_matrix[i, potential_triangles].indices)\n",
    "    # jordan columns + initial cycle = new cycle\n",
    "    problem += (boundary_expression == cycle_vector[i], f'row_{i}')\n",
    "\n",
    "# solve it\n",
    "problem.solve(lpsolver())\n",
    "\n",
    "# collect the results\n",
    "optimal_bounding_chain = (\n",
    "        dim_2_indices.loc[potential_triangles]\n",
    "            .assign(coefficient=[bounding_chain_pos[i].value() - bounding_chain_neg[i].value() for i in potential_triangles])  # fill in the coefficient column\n",
    "    )\n",
    "optimal_bounding_chain = optimal_bounding_chain[optimal_bounding_chain['coefficient'] != 0].reset_index(drop=True)  # collect only nnz coeffiencnts\n",
    "\n",
    "# make a plot\n",
    "fig, ax = plt.subplots(figsize=(5, 5))\n",
    "ax.axis('off')  # remove frame and lables\n",
    "ax.axis('equal')  # equal scaleing\n",
    "\n",
    "# plot the point\n",
    "ax.scatter(pts[:, 0], pts[:, 1], c='k', s=10, zorder=2)  # points\n",
    "\n",
    "# plot the cycle\n",
    "lines = LineCollection(  # we could loop and plot each line individually, but that takes longer to render. linecollections will be fast\n",
    "            np.array((pts[jordan_optimal_cycle['simplex'].str[0]], pts[jordan_optimal_cycle['simplex'].str[1]])).swapaxes(0, 1),  # points along each ot the lines\n",
    "            color='k',\n",
    "            lw=1.5,\n",
    "            zorder=3\n",
    "        )\n",
    "ax.add_collection(lines)\n",
    "\n",
    "# plot the bounding chain\n",
    "tris = PatchCollection(  # again, we could loop and use fill but thats slower than a PatchCollection\n",
    "        [Polygon(pts[list(s)]) for s in optimal_bounding_chain['simplex']],\n",
    "        color='gray',\n",
    "        edgecolor=None,  # no edges\n",
    "        alpha=0.25,\n",
    "        zorder=1\n",
    "    )\n",
    "ax.add_collection(tris)\n",
    "\n",
    "# some final formatting\n",
    "fig.tight_layout()"
   ]
  },
  {
   "cell_type": "markdown",
   "id": "455c5068",
   "metadata": {
    "id": "455c5068"
   },
   "source": [
    "# Triangle-Loss Optimization\n",
    "So far, we've solved for the smallest cycle boundary. This, however, is a choice we made when setting up the problem, and there are alternatives.\n",
    "\n",
    "One alternative is *triangle-loss optimization*. Instead of searching for the smallest cycle, we'll search to the cycle that bounds the smallest area (i.e. the cycle that has the smallest bounding chain). This will in general create a cycle that's slightly longer, but has a smaller area within it.\n",
    "\n",
    "To find the triangle-loss cycle representative, we solve\n",
    "\n",
    "\\begin{align*}\n",
    "    \\underset{\\mathbf{x}, \\mathbf{x}^{BC} \\mathbf{p}, \\mathbf{q}}{\\operatorname{minimize}} \\quad & c^\\top | \\mathbf{x}^{BC} | \\\\\n",
    "    \\operatorname{subject~to} \\quad & \\mathbf{x} = \\partial_{n+1} \\mathbf{x}^{BC} \\\\\n",
    "    & \\mathbf{x}[\\mathcal{R}] = \\mathbf{x}^{Init}[\\mathcal{R}] + \\partial_{n+1} [\\mathcal{R}, \\mathcal{P}] \\mathbf{p} + A [\\mathcal{R}, \\mathcal{q}] \\mathbf{q}.\n",
    "\\end{align*}"
   ]
  },
  {
   "cell_type": "code",
   "execution_count": null,
   "id": "e7ada2f2",
   "metadata": {
    "id": "e7ada2f2"
   },
   "outputs": [],
   "source": [
    "# index sets\n",
    "birth = homology.loc[idx, 'birth']\n",
    "death = homology.loc[idx, 'death']\n",
    "potential_edges = np.where(dim_1_indices['filtration'] <= birth)[0]  # curlR, allowed edges\n",
    "jordan_mask = (jordan_indices[['birth', 'death']] <= np.array([birth, death])).all(axis=1)\n",
    "potential_jordan_vectors = np.where(jordan_mask & (jordan_indices['birth simplex'] != tuple(birth_simplex)))[0]  # curlQ, allowed cycles\n",
    "init_cycle = jordan_basis[potential_edges, np.where(jordan_indices['birth simplex'] == tuple(birth_simplex))[0][0]].toarray()  # xinit, initial cycle\n",
    "potential_bc_edges = np.where(dim_1_indices['filtration'] <= death)[0]  # curlR, allowed edges\n",
    "potential_bc_triangles = np.where(dim_2_indices['filtration'] <= death)[0]  # curlP, allowed triangles\n",
    "\n",
    "# build the solver\n",
    "problem = pulp.LpProblem('Triangle-Loss_Optimization', pulp.LpMinimize)\n",
    "\n",
    "# variables we fit\n",
    "bounding_chain_pos = pulp.LpVariable.dicts('xbcpos', potential_triangles, lowBound=0, cat='Continuous')  # cant do absolute value, instead x = x+ - x- and both are\n",
    "bounding_chain_neg = pulp.LpVariable.dicts('xbcneg', potential_triangles, lowBound=0, cat='Continuous')  # above 0 so |x| = x+ + x-\n",
    "cycle_coef = pulp.LpVariable.dicts('xpos', potential_edges, cat='Continuous')\n",
    "jordan_cols = pulp.LpVariable.dicts('pq', range(len(potential_jordan_vectors)), cat='Continuous')\n",
    "\n",
    "# objective\n",
    "problem += pulp.lpDot(area + 1e-3, [bounding_chain_pos[i] + bounding_chain_neg[i] for i in potential_triangles])\n",
    "\n",
    "# constraint 1: cycle\n",
    "for i in potential_edges:\n",
    "    # can potentially add columns of the matrix\n",
    "    jordan_basis_i = jordan_basis[i, potential_jordan_vectors].tocsr()\n",
    "    jordan_expression = pulp.lpSum(jordan_basis_i[j] * jordan_cols[j] for j in jordan_basis_i.indices)\n",
    "    # jordan columns + initial cycle = new cycle\n",
    "    problem += (jordan_expression + init_cycle[i] == cycle_coef[i], f'row_{i}')\n",
    "\n",
    "# constraint 2: bounding chain\n",
    "for i in potential_bc_edges:\n",
    "    # can potentially add columns of the matrix\n",
    "    boundary_expression = pulp.lpSum(boundary_matrix[i, j] * (bounding_chain_pos[j] - bounding_chain_neg[j]) for j in boundary_matrix[i, potential_triangles].indices)\n",
    "    # jordan columns + initial cycle = new cycle\n",
    "    problem += (boundary_expression == cycle_coef.get(i, 0), f'bc_row_{i}')\n",
    "\n",
    "# solve it\n",
    "problem.solve(lpsolver())\n",
    "\n",
    "# collect the results\n",
    "tri_loss_optimal_cycle = (\n",
    "        dim_1_indices.loc[potential_edges]\n",
    "            .assign(coefficient=[cycle_coef[i].value() for i in potential_edges])  # fill in the coefficient column\n",
    "    )\n",
    "tri_loss_optimal_cycle = tri_loss_optimal_cycle[~np.isclose(tri_loss_optimal_cycle['coefficient'], 0)].reset_index(drop=True)  # collect only nnz coeffiencnts\n",
    "tri_loss_optimal_bounding_chain = (\n",
    "        dim_2_indices.loc[potential_bc_triangles]\n",
    "            .assign(coefficient=[bounding_chain_pos[i].value() - bounding_chain_neg[i].value() for i in potential_bc_triangles])  # fill in the coefficient column\n",
    "    )\n",
    "tri_loss_optimal_bounding_chain = tri_loss_optimal_bounding_chain[~np.isclose(tri_loss_optimal_bounding_chain['coefficient'], 0)].reset_index(drop=True)  # collect only nnz coeffiencnts\n",
    "\n",
    "# make a plot\n",
    "fig, ax = plt.subplots(figsize=(5, 5))\n",
    "ax.axis('off')  # remove frame and lables\n",
    "ax.axis('equal')  # equal scaleing\n",
    "\n",
    "# plot the point\n",
    "ax.scatter(pts[:, 0], pts[:, 1], c='k', s=10, zorder=2)  # points\n",
    "\n",
    "# plot the initial cycle\n",
    "lines = LineCollection(\n",
    "            np.array((pts[jordan_optimal_cycle['simplex'].str[0]], pts[jordan_optimal_cycle['simplex'].str[1]])).swapaxes(0, 1),\n",
    "            color='tab:orange',\n",
    "            lw=1.5,\n",
    "            zorder=3,\n",
    "            label='Edge-Loss Cycle',\n",
    "        )\n",
    "ax.add_collection(lines)\n",
    "\n",
    "# plot the optmial cycle\n",
    "lines = LineCollection(\n",
    "            np.array((pts[tri_loss_optimal_cycle['simplex'].str[0]], pts[tri_loss_optimal_cycle['simplex'].str[1]])).swapaxes(0, 1),\n",
    "            color='tab:blue',\n",
    "            lw=1.5,\n",
    "            zorder=3,\n",
    "            label='Triangle-Loss Cycle',\n",
    "        )\n",
    "ax.add_collection(lines)\n",
    "\n",
    "# some final formatting\n",
    "ax.legend(frameon=False, loc='upper left', fontsize='small')\n",
    "fig.tight_layout()"
   ]
  },
  {
   "cell_type": "markdown",
   "id": "50f62e97",
   "metadata": {
    "id": "50f62e97"
   },
   "source": [
    "What we see is that the edge-loss cycle smoothly surrounds the hole, but can be farther from the actual empty space in the point set at times. The triangle-loss, in contrast, cycle is more jagged, but more closely surrounds the hole."
   ]
  },
  {
   "cell_type": "markdown",
   "id": "c0518546",
   "metadata": {
    "id": "c0518546"
   },
   "source": [
    "# Next Steps\n",
    "If you're done, try to run this code on cycles in other point-sets. You can do that easily by replacing `pts` at the very top with any point set of your choosing. Try to look at:\n",
    "1. Optimizing multiple cycles in a point set. You can choose which cycle is optimized using the `idx` variable. Do the optimized cycles each surround the correct hole?\n",
    "2. Optimizing the hole in an annulus with a filled region in the middle. Try both edge- and triangle-loss optimization. Are they different? How?\n",
    "\n",
    "Note: If the number of points grows substantially, these can start to take much longer to solve since the number of triangles grows a lot. For now, try to stick to point sets with a maximum of a couple-hundred points. If you need to scale up, look into getting a license for third-party LP solvers. Gurobi and CPLEX are both much faster and free for academic use, Gurobi also has a python library gurobipy which can initialize problems much faster than PuLP."
   ]
  },
  {
   "cell_type": "code",
   "execution_count": null,
   "id": "079c82b5",
   "metadata": {
    "id": "079c82b5"
   },
   "outputs": [],
   "source": [
    "# three annuluses, use max_filtration = 1.5\n",
    "n = 50  # number of points per annululs\n",
    "r = 0.75  # innner radius\n",
    "R = 1  # outer radius\n",
    "np.random.seed(1)\n",
    "annus = []\n",
    "for _ in range(3):\n",
    "    rad = np.sqrt(np.random.uniform(r**2, R**2, n))  # radius of each point, evenly distributed\n",
    "    theta = np.random.uniform(0, 2 * np.pi, n)  # angle of each point\n",
    "    x = rad * np.cos(theta)  # x vaues\n",
    "    y = rad * np.sin(theta)  # y values\n",
    "    annus.append(np.array((x, y)).T)  # concatenated df\n",
    "pts = np.vstack((\n",
    "        annus[0] + 2 / np.sqrt(3) * R * np.array([0, 1]),\n",
    "        annus[1] + 2 / np.sqrt(3) * R * np.array([0.5 * np.sqrt(3), -0.5]),\n",
    "        annus[2] + 2 / np.sqrt(3) * R * np.array([-0.5 * np.sqrt(3), -0.5]),\n",
    "    ))\n",
    "\n",
    "# plot it\n",
    "fig, ax = plt.subplots()\n",
    "fig.set_figheight(3)\n",
    "fig.set_figwidth(3)\n",
    "ax.axis('equal')\n",
    "ax.set_axis_off()\n",
    "ax.plot(pts[:, 0], pts[:, 1], 'k.', ms=2)\n",
    "fig.tight_layout()"
   ]
  },
  {
   "cell_type": "code",
   "execution_count": null,
   "id": "c6b597dd",
   "metadata": {
    "id": "c6b597dd"
   },
   "outputs": [],
   "source": [
    "# annulus with an inner area, use max_filtration = 0.75\n",
    "n_in = 50  # number of points in the interior\n",
    "n_out = 100  # number of points in the expteriot\n",
    "circ_rad = 0.5  # interetior circle radius\n",
    "inner_rad = 1  # innner annulus radius\n",
    "outer_rad = 1.25  # outer radius\n",
    "np.random.seed(1)\n",
    "r = np.sqrt(np.hstack((np.random.uniform(0, circ_rad**2, n_in), np.random.uniform(inner_rad**2, outer_rad**2, n_out))))\n",
    "theta = np.random.uniform(0, 2 * np.pi, n_in + n_out)\n",
    "pts = np.array((\n",
    "        r * np.cos(theta),  # x vales\n",
    "        r * np.sin(theta),  # y vales\n",
    "    )).T\n",
    "\n",
    "# plot it\n",
    "fig, ax = plt.subplots()\n",
    "fig.set_figheight(3)\n",
    "fig.set_figwidth(3)\n",
    "ax.axis('equal')\n",
    "ax.set_axis_off()\n",
    "ax.plot(pts[:, 0], pts[:, 1], 'k.', ms=2)\n",
    "fig.tight_layout()"
   ]
  },
  {
   "cell_type": "markdown",
   "id": "BgwcPKT5MJ7s",
   "metadata": {
    "id": "BgwcPKT5MJ7s"
   },
   "source": [
    "# Some Final Notes\n",
    "Cycle optimization is an incredibly powerful technique that can help to derive meaningful insights from peristant homology. In theory, these techniques can be applied to any dimension cycle you want, but there are computational challenges for higher dimensions since the number of $n$-simplicies increases substantially for higher $n$ (To check, compare `len(dim_1_indices)` to `len(dim_2_indices)`).\n",
    "\n",
    "For more information on the topic, there's quite a bit of liturature to check out. For more thourough treatment of the topics in this notebook, I'd suggest:\n",
    "- Escolar, Emerson G., and Yasuaki Hiraoka. \"Computing optimal cycles of homology groups.\" A Mathematical Approach to Research Problems of Science and Technology: Theoretical Basis and Developments in Mathematical Modeling (2014): 101-118.\n",
    "- Obayashi, Ippei. \"Volume-optimal cycle: Tightest representative cycle of a generator in persistent homology.\" SIAM Journal on Applied Algebra and Geometry 2.4 (2018): 508-534.\n",
    "- Li, Lu, et al. \"Minimal cycle representatives in persistent homology using linear programming: An empirical study with user’s guide.\" Frontiers in artificial intelligence 4 (2021): 681117."
   ]
  }
 ],
 "metadata": {
  "colab": {
   "provenance": []
  },
  "kernelspec": {
   "display_name": "Python 3",
   "language": "python",
   "name": "python3"
  },
  "language_info": {
   "codemirror_mode": {
    "name": "ipython",
    "version": 3
   },
   "file_extension": ".py",
   "mimetype": "text/x-python",
   "name": "python",
   "nbconvert_exporter": "python",
   "pygments_lexer": "ipython3",
   "version": "3.12.1"
  }
 },
 "nbformat": 4,
 "nbformat_minor": 5
}
