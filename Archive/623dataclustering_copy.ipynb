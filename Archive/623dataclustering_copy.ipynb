{
 "cells": [
  {
   "cell_type": "code",
   "execution_count": 1,
   "id": "5401ba1b",
   "metadata": {},
   "outputs": [
    {
     "name": "stderr",
     "output_type": "stream",
     "text": [
      "/Users/floyd/anaconda3/lib/python3.11/site-packages/pandas/core/arrays/masked.py:60: UserWarning: Pandas requires version '1.3.6' or newer of 'bottleneck' (version '1.3.5' currently installed).\n",
      "  from pandas.core import (\n"
     ]
    }
   ],
   "source": [
    "from sklearn.cluster import KMeans\n",
    "from sklearn.decomposition import PCA\n",
    "from scipy.cluster.hierarchy import linkage, dendrogram\n",
    "from scipy.cluster.hierarchy import fcluster\n",
    "import matplotlib.pyplot as plt\n",
    "import networkx as nx\n",
    "import pandas as pd\n",
    "import numpy as np\n",
    "import matplotlib.pyplot as plt\n",
    "import oat_python as oat\n",
    "import os"
   ]
  },
  {
   "cell_type": "code",
   "execution_count": 8,
   "id": "ab67dbb0",
   "metadata": {},
   "outputs": [],
   "source": [
    "# config\n",
    "MIN_RELEVANCE = 0.7\n",
    "MIN_YEAR = 1920\n",
    "MAX_YEAR = 2021  # when the data is from\n",
    "MIN_CONCEPT_FREQ = 0.0001\n",
    "MAX_CONCEPT_FREQ = 0.001\n",
    "max_dim = 1\n",
    "years_grid = np.linspace(0, 1, 100)\n",
    "inv_counts_grid = np.linspace(0, 1, 40)\n",
    "\n",
    "def dataprocess(df):\n",
    "    df = df[df['relevance_mean'] >= MIN_RELEVANCE]\n",
    "    df = df[df['year'] >= MIN_YEAR]\n",
    "    num_articles = df['article_id'].nunique()\n",
    "    concept_freq = df.groupby('concept').transform('size') / num_articles\n",
    "    df = df[(concept_freq >= MIN_CONCEPT_FREQ) & (concept_freq <= MAX_CONCEPT_FREQ)]\n",
    "    df = df[['article_id', 'concept', 'year']]\n",
    "\n",
    "    return(df)\n",
    "\n",
    "def conceptprocess(df):\n",
    "    concepts = (\n",
    "            df\n",
    "                .sort_values('year')\n",
    "                .groupby('concept')\n",
    "                .agg(\n",
    "                    year=('year', 'min'),\n",
    "                    count=('article_id', 'nunique')\n",
    "                )\n",
    "                .reset_index()\n",
    "        )\n",
    "\n",
    "    concepts['norm_year'] = (concepts['year'] - MIN_YEAR) / (MAX_YEAR - MIN_YEAR)\n",
    "    concepts['inv_count'] = 1 / concepts['count']\n",
    "    return(concepts)\n",
    "\n",
    "def edgeprocess(df):\n",
    "    edges = df.merge(df, on=['article_id', 'year'], suffixes=['_source', '_target'])\n",
    "    edges = edges[edges['concept_source'] < edges['concept_target']]\n",
    "    edges = edges.groupby(['concept_source', 'concept_target']).agg(\n",
    "            year=('year', 'min'),\n",
    "            count=('article_id', 'nunique')\n",
    "        ).reset_index()\n",
    "\n",
    "    edges['norm_year'] = (edges['year'] - MIN_YEAR) / (MAX_YEAR - MIN_YEAR)\n",
    "    edges['inv_count'] = 1 / edges['count']\n",
    "    return(edges)\n",
    "\n",
    "def graphprocess(concepts,edges):\n",
    "    G = nx.Graph()\n",
    "\n",
    "    # add the nodes\n",
    "    G.add_nodes_from([(c, {'norm_year': ny, 'inv_count': ic}) for c, ny, ic in zip(concepts['concept'], concepts['norm_year'], concepts['inv_count'])])\n",
    "\n",
    "    # add the edges\n",
    "    G.add_edges_from([(u, v, {'norm_year': ny, 'inv_count': ic}) for u, v, ny, ic in zip(edges['concept_source'], edges['concept_target'], edges['norm_year'], edges['inv_count'])])\n",
    "    \n",
    "    return(G)\n",
    "\n",
    "def processbetticurve(G):\n",
    "    adj_year = nx.adjacency_matrix(G, weight='norm_year')\n",
    "    adj_year.setdiag([d['norm_year'] for _, d in G.nodes(data=True)])\n",
    "    adj_inv_count = nx.adjacency_matrix(G, weight='inv_count')\n",
    "    adj_inv_count.setdiag([d['inv_count'] for _, d in G.nodes(data=True)])\n",
    "    adj_year = adj_year.sorted_indices()\n",
    "    betti_curves = np.empty((len(years_grid), len(inv_counts_grid), max_dim + 1))\n",
    "\n",
    "    return betti_curves\n",
    "\n",
    "def runcrocker(G, years_grid, inv_counts_grid):\n",
    "    adj_year = nx.adjacency_matrix(G, weight='norm_year')\n",
    "    adj_year.setdiag([d['norm_year'] for _, d in G.nodes(data=True)])\n",
    "    adj_inv_count = nx.adjacency_matrix(G, weight='inv_count')\n",
    "    adj_inv_count.setdiag([d['inv_count'] for _, d in G.nodes(data=True)])\n",
    "    adj_year = adj_year.sorted_indices()\n",
    "\n",
    "    betti_curves = np.empty((len(years_grid), len(inv_counts_grid), max_dim + 1))\n",
    "\n",
    "    for i, c in enumerate(inv_counts_grid):\n",
    "        # zero out things not included\n",
    "        c_adj = adj_year.copy()\n",
    "        c_adj[adj_inv_count > c] = 0\n",
    "        c_adj.eliminate_zeros()\n",
    "\n",
    "        c_adj.setdiag([d['norm_year'] for _, d in G.nodes(data=True)])\n",
    "        c_adj = c_adj.sorted_indices()\n",
    "\n",
    "        if c_adj.nnz == 0 or c_adj.shape[0] == 0:\n",
    "            for d in range(max_dim + 1):\n",
    "                betti_curves[:, i, d] = 0\n",
    "            continue\n",
    "\n",
    "        factored = oat.rust.FactoredBoundaryMatrixVr(c_adj, max_dim)\n",
    "        homology = factored.homology(False, False)\n",
    "\n",
    "        for d in range(max_dim + 1):\n",
    "            dim_homology = homology[homology['dimension'] == d]\n",
    "            betti_curves[:, i, d] = ((dim_homology['birth'].values <= years_grid[:, None]) &\n",
    "                                    (dim_homology['death'].values > years_grid[:, None])).sum(axis=1)\n",
    "\n",
    "        #try:\n",
    "        #    factored = oat.rust.FactoredBoundaryMatrixVr(c_adj, max_dim)\n",
    "        #    homology = factored.homology(False, False)\n",
    "\n",
    "        #    for d in range(max_dim + 1):\n",
    "        #        dim_homology = homology[homology['dimension'] == d]\n",
    "        #        betti_curves[:, i, d] = ((dim_homology['birth'].values <= years_grid[:, None]) &\n",
    "                                        #(dim_homology['death'].values > years_grid[:, None])).sum(axis=1)\n",
    "        #except Exception as e:\n",
    "        #    print(f\"OAT error at inv_count={c:.3f}: {e}\")\n",
    "        #    for d in range(max_dim + 1):\n",
    "        #        betti_curves[:, i, d] = 0\n",
    "\n",
    "\n",
    "    return betti_curves\n",
    "\n",
    "def mainfunc(df, years_grid, inv_counts_grid):\n",
    "    df = dataprocess(df)\n",
    "    concepts = conceptprocess(df)\n",
    "    edges = edgeprocess(df)\n",
    "    G = graphprocess(concepts, edges)\n",
    "    betti_curves = runcrocker(G, years_grid, inv_counts_grid)\n",
    "    return betti_curves"
   ]
  },
  {
   "cell_type": "code",
   "execution_count": 3,
   "id": "626fd3fb",
   "metadata": {},
   "outputs": [],
   "source": [
    "data_dir = \"cache2\"\n",
    "files = sorted(f for f in os.listdir(data_dir) if f.endswith(\".csv\"))"
   ]
  },
  {
   "cell_type": "code",
   "execution_count": 4,
   "id": "8bcb5857",
   "metadata": {},
   "outputs": [],
   "source": [
    "#fields = pd.read_csv(\"files.csv\")\n",
    "X_vecs = []\n",
    "field_names = []"
   ]
  },
  {
   "cell_type": "code",
   "execution_count": 5,
   "id": "0b3f5799",
   "metadata": {},
   "outputs": [],
   "source": [
    "#os.makedirs(\"cache\", exist_ok=True)\n",
    "#def download_or_cache(link, filename):\n",
    "#    if os.path.exists(filename):\n",
    "#        return pd.read_csv(filename)\n",
    "#    else:\n",
    "#        df = pd.read_csv(link, compression='gzip')\n",
    "#        df.to_csv(filename, index=False)\n",
    "#        return df"
   ]
  },
  {
   "cell_type": "code",
   "execution_count": 6,
   "id": "e4ba9953",
   "metadata": {},
   "outputs": [],
   "source": [
    "#for _, row in subset.iterrows():\n",
    "#    field = row['field']\n",
    "#    link = row['link'].strip()\n",
    "    \n",
    "#    try:\n",
    "#        df = download_or_cache(link, f\"cache/{field}.csv\")\n",
    "#        betti_curves = mainfunc(df)\n",
    "#        vec = betti_curves.flatten()\n",
    "#        X_vecs.append(vec)\n",
    "#        field_names.append(field)\n",
    "\n",
    "#    except Exception as e:\n",
    "#       print(f\"Failed on {field}: {e}\")\n",
    "#        continue\n",
    "\n",
    "#X = np.array(X_vecs)\n",
    "#print(f\"Finished vectorization. Shape = {X.shape}\")"
   ]
  },
  {
   "cell_type": "code",
   "execution_count": 9,
   "id": "fe10cf81",
   "metadata": {},
   "outputs": [
    {
     "name": "stdout",
     "output_type": "stream",
     "text": [
      "Classical Physics vectorized.\n",
      "Computer Hardware vectorized.\n",
      "Human Geography vectorized.\n",
      "Mathematical Physics vectorized.\n",
      "Philosophy vectorized.\n",
      "Quantum Physics vectorized.\n",
      "Zoology vectorized.\n",
      "All fields processed. Final shape: (8, 8000)\n"
     ]
    }
   ],
   "source": [
    "for fname in files:\n",
    "    path = os.path.join(data_dir, fname)\n",
    "    field = fname.replace(\".csv\", \"\").replace(\"_\", \" \")\n",
    "\n",
    "    try:\n",
    "        df = pd.read_csv(path)\n",
    "        betti_curves = mainfunc(df, years_grid, inv_counts_grid)\n",
    "        if betti_curves.shape != (100, 40, 2):\n",
    "            print(f\"{field} skipped: shape {betti_curves.shape}\")\n",
    "            continue\n",
    "\n",
    "        vec = betti_curves.flatten()\n",
    "        X_vecs.append(vec)\n",
    "        field_names.append(field)\n",
    "        print(f\"{field} vectorized.\")\n",
    "\n",
    "    except Exception as e:\n",
    "        print(f\"Failed on {field}: {e}\")\n",
    "\n",
    "X = np.array(X_vecs)\n",
    "print(\"All fields processed. Final shape:\", X.shape)"
   ]
  },
  {
   "cell_type": "code",
   "execution_count": null,
   "id": "049accd9",
   "metadata": {},
   "outputs": [],
   "source": [
    "X = np.array(X_vecs)\n",
    "fields = np.array(field_names)\n",
    "_, unique_indices = np.unique(fields, return_index=True)\n",
    "X_unique = X[unique_indices]\n",
    "fields_unique = fields[unique_indices]"
   ]
  },
  {
   "cell_type": "code",
   "execution_count": null,
   "id": "5c921714",
   "metadata": {},
   "outputs": [
    {
     "name": "stdout",
     "output_type": "stream",
     "text": [
      "                  field  cluster\n",
      "2       Human Geography        0\n",
      "4            Philosophy        0\n",
      "1     Computer Hardware        1\n",
      "3  Mathematical Physics        1\n",
      "0     Classical Physics        2\n",
      "5       Quantum Physics        2\n",
      "6               Zoology        2\n"
     ]
    }
   ],
   "source": [
    "n_clusters = 3\n",
    "kmeans = KMeans(n_clusters=n_clusters, random_state=42, n_init='auto')\n",
    "labels = kmeans.fit_predict(X_unique)\n",
    "cluster_df = pd.DataFrame({\n",
    "    \"field\": fields_unique,\n",
    "    \"cluster\": labels\n",
    "}).sort_values(\"cluster\")\n",
    "print(cluster_df)"
   ]
  },
  {
   "cell_type": "code",
   "execution_count": null,
   "id": "03fb58ea",
   "metadata": {},
   "outputs": [
    {
     "data": {
      "image/png": "[encoded data removed]",
      "text/plain": [
       "<Figure size 800x600 with 2 Axes>"
      ]
     },
     "metadata": {},
     "output_type": "display_data"
    }
   ],
   "source": [
    "pca_2d = PCA(n_components=2)\n",
    "X_2d = pca_2d.fit_transform(X_unique)\n",
    "\n",
    "plt.figure(figsize=(8, 6))\n",
    "scatter = plt.scatter(X_2d[:, 0], X_2d[:, 1], c=labels, cmap='tab10', s=60)\n",
    "plt.colorbar(scatter)\n",
    "plt.grid(True)\n",
    "plt.show()"
   ]
  },
  {
   "cell_type": "code",
   "execution_count": null,
   "id": "ea10f376",
   "metadata": {},
   "outputs": [
    {
     "name": "stdout",
     "output_type": "stream",
     "text": [
      "(7, 2)\n",
      "7\n"
     ]
    }
   ],
   "source": [
    "print(X_2d.shape)\n",
    "print(len(labels))"
   ]
  },
  {
   "cell_type": "code",
   "execution_count": null,
   "id": "979c5f48",
   "metadata": {},
   "outputs": [
    {
     "name": "stdout",
     "output_type": "stream",
     "text": [
      "2\n",
      "['Human Geography', 'Philosophy']\n"
     ]
    }
   ],
   "source": [
    "cluster_0_fields = cluster_df[cluster_df['cluster'] == 0]['field'].to_list()\n",
    "print(len(cluster_0_fields))\n",
    "print(cluster_0_fields)"
   ]
  },
  {
   "cell_type": "code",
   "execution_count": null,
   "id": "132a6201",
   "metadata": {},
   "outputs": [
    {
     "data": {
      "image/png": "[encoded data removed]",
      "text/plain": [
       "<Figure size 1000x600 with 1 Axes>"
      ]
     },
     "metadata": {},
     "output_type": "display_data"
    }
   ],
   "source": [
    "Z = linkage(X_unique, method='ward', metric='euclidean')\n",
    "\n",
    "plt.figure(figsize=(10, 6))\n",
    "dendrogram(Z, labels=fields_unique, leaf_rotation=90)\n",
    "plt.ylabel('Distance')\n",
    "plt.title('Hierarchical Clustering Dendrogram')\n",
    "plt.tight_layout()\n",
    "plt.show()"
   ]
  },
  {
   "cell_type": "code",
   "execution_count": null,
   "id": "1d7f6430",
   "metadata": {},
   "outputs": [
    {
     "name": "stdout",
     "output_type": "stream",
     "text": [
      "\n",
      "Hierarchical Clustering Results:\n",
      "                  field  cluster\n",
      "1     Computer Hardware        1\n",
      "3  Mathematical Physics        1\n",
      "0     Classical Physics        2\n",
      "5       Quantum Physics        2\n",
      "6               Zoology        2\n",
      "2       Human Geography        3\n",
      "4            Philosophy        3\n"
     ]
    }
   ],
   "source": [
    "hier_labels = fcluster(Z, t=3, criterion='maxclust')\n",
    "\n",
    "hier_cluster_df = pd.DataFrame({\n",
    "    \"field\": fields_unique,\n",
    "    \"cluster\": hier_labels\n",
    "}).sort_values(\"cluster\")\n",
    "\n",
    "print(\"\\nHierarchical Clustering Results:\")\n",
    "print(hier_cluster_df)"
   ]
  },
  {
   "cell_type": "code",
   "execution_count": null,
   "id": "800b32ee",
   "metadata": {},
   "outputs": [
    {
     "name": "stdout",
     "output_type": "stream",
     "text": [
      "\n",
      "Comparison of K-means and Hierarchical Clustering:\n",
      "                  field  cluster  hier_cluster\n",
      "2       Human Geography        0             3\n",
      "4            Philosophy        0             3\n",
      "1     Computer Hardware        1             1\n",
      "3  Mathematical Physics        1             1\n",
      "0     Classical Physics        2             2\n",
      "5       Quantum Physics        2             2\n",
      "6               Zoology        2             2\n"
     ]
    }
   ],
   "source": [
    "print(\"\\nComparison of K-means and Hierarchical Clustering:\")\n",
    "comparison_df = cluster_df.copy()\n",
    "comparison_df[\"hier_cluster\"] = hier_cluster_df[\"cluster\"]\n",
    "print(comparison_df)"
   ]
  },
  {
   "cell_type": "code",
   "execution_count": null,
   "id": "9b24e1af",
   "metadata": {},
   "outputs": [],
   "source": [
    "from sklearn.cluster import DBSCAN\n",
    "\n",
    "db = DBSCAN(eps=3, min_samples=5).fit(X)\n",
    "labels_density = db.labels_"
   ]
  },
  {
   "cell_type": "code",
   "execution_count": null,
   "id": "4a4d5d55",
   "metadata": {},
   "outputs": [
    {
     "name": "stdout",
     "output_type": "stream",
     "text": [
      "                  field  cluster\n",
      "0     Classical Physics       -1\n",
      "1     Computer Hardware       -1\n",
      "2       Human Geography       -1\n",
      "3  Mathematical Physics       -1\n",
      "4            Philosophy       -1\n",
      "5       Quantum Physics       -1\n",
      "6               Zoology       -1\n"
     ]
    }
   ],
   "source": [
    "cluster_result = pd.DataFrame({\n",
    "    \"field\": fields_unique,\n",
    "    \"cluster\": labels_density\n",
    "})\n",
    "\n",
    "print(cluster_result.sort_values(\"cluster\"))"
   ]
  },
  {
   "cell_type": "code",
   "execution_count": null,
   "id": "455cc498",
   "metadata": {},
   "outputs": [],
   "source": [
    "from sklearn.mixture import GaussianMixture"
   ]
  }
 ],
 "metadata": {
  "kernelspec": {
   "display_name": "base",
   "language": "python",
   "name": "python3"
  },
  "language_info": {
   "codemirror_mode": {
    "name": "ipython",
    "version": 3
   },
   "file_extension": ".py",
   "mimetype": "text/x-python",
   "name": "python",
   "nbconvert_exporter": "python",
   "pygments_lexer": "ipython3",
   "version": "3.11.5"
  }
 },
 "nbformat": 4,
 "nbformat_minor": 5
}
