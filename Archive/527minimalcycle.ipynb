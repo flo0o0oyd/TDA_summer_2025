{
 "cells": [
  {
   "cell_type": "markdown",
   "id": "2026c5e2",
   "metadata": {},
   "source": [
    "Minimal cycle\n",
    "\n",
    "I found the problem here: if I want to minimize cycle, I need my filtration steps to include the previous step, with such inclusion. For 2 parameter, this is inclusion from both directions, so it cannot be achieved: for example, the step of (2,3) does not include the step of (3,2), and vice versa. You can only look at the inclusion of a certain row or column, but this is meaningless because this is what single parameter persistent has already done."
   ]
  }
 ],
 "metadata": {
  "language_info": {
   "name": "python"
  }
 },
 "nbformat": 4,
 "nbformat_minor": 5
}
