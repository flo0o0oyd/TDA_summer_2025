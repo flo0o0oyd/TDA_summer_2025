{
 "cells": [
  {
   "cell_type": "markdown",
   "id": "327c5e73",
   "metadata": {},
   "source": [
    "# Flitration of Simplicial Complexes and Their Application to Mapper Graphs"
   ]
  },
  {
   "cell_type": "markdown",
   "id": "b3616c78",
   "metadata": {},
   "source": [
    "### Mapper\n",
    "Map the data set to a lower dimension, then cover the co-domain(low dimensial) with several intervals. Then we project back to original data and saperate data point into groups depend on intervals. \\\n",
    "Why? What's the benefit? Conclude cloud with a lot of data into neat graph? \\\n",
    "Fliter function: the low dimension co-domain \\\n",
    "Simplical map: K -> L, simplex must to simplex. So when doing this, collapse may happen, eg. f(A) = f(C) = Q, A,C are points in K, Q is point in L. \\\n",
    "Filtration: sequence of simplicial map \\\n",
    "Bin: the intervals in lower dimension \\\n",
    "Filtration: increase of Bin size"
   ]
  },
  {
   "cell_type": "markdown",
   "id": "45e0e682",
   "metadata": {},
   "source": [
    "# The shape of relations: from knot invariants to cancer genomics"
   ]
  },
  {
   "cell_type": "markdown",
   "id": "81bd5b9a",
   "metadata": {},
   "source": [
    "Knot invariants: functions on knots (same value on isotopic knots but fail to distinguish all of them), eg: color \\\n"
   ]
  },
  {
   "cell_type": "markdown",
   "id": "8e7d5773",
   "metadata": {},
   "source": [
    "# Zen sight\n"
   ]
  },
  {
   "cell_type": "code",
   "execution_count": null,
   "id": "a8633587",
   "metadata": {
    "vscode": {
     "languageId": "plaintext"
    }
   },
   "outputs": [],
   "source": []
  }
 ],
 "metadata": {
  "language_info": {
   "name": "python"
  }
 },
 "nbformat": 4,
 "nbformat_minor": 5
}
